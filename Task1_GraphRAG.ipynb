{
 "cells": [
  {
   "cell_type": "markdown",
   "metadata": {},
   "source": [
    "# 初始化"
   ]
  },
  {
   "cell_type": "code",
   "execution_count": 2,
   "metadata": {},
   "outputs": [
    {
     "name": "stdout",
     "output_type": "stream",
     "text": [
      "服务初始化成功\n"
     ]
    }
   ],
   "source": [
    "import os\n",
    "from local_packages import *                                                                                                                                                                                                                                                                                                                                               \n",

    "from Packages.Multi_Process.multi_process import MultiProcessor\n",
    "from Packages.Formatter.data_processor import DataProcessor\n",

    "\n",
    "# 初始化API\n",
    "loader=LLMLoader(service_type='qwen', version='long')\n",
    "\n",
    "llm=loader.service\n",
    "\n",
    "# 初始化向量嵌入\n",
    "embedder=QwenEmbedder()\n",
    "\n",
    "# 初始化文字分割器\n",
    "divider=TextDivider(threshold=512,overlap=0)\n",
    "parser=LLMParser()\n",
    "formatter=DataProcessor()\n",
    "\n",
    "from Applications.GraphRAG.Config.entity_classifier import data_template, prompt, correction, validation\n",
    "# 01\n",
    "entity_classifier=MultiProcessor(llm,parser, data_template, prompt, correction, validation, isList=True)\n",
    "\n",
    "from Applications.GraphRAG.Config.entity_extractor import data_template, prompt, correction, validation\n",
    "# 02\n",
    "entity_extractor=MultiProcessor(llm,parser, data_template, prompt, correction, validation, isList=True)\n",
    "\n",
    "from Applications.GraphRAG.Config.tag_mount import data_template, prompt, correction, validation\n",
    "# 03\n",
    "tag_mount=MultiProcessor(llm,parser, data_template, prompt, correction, validation, isList=True)\n",
    "\n",
    "from Applications.GraphRAG.Config.entity_explainer import data_template, prompt, correction, validation\n",
    "# 04\n",
    "entity_explainer=MultiProcessor(llm,parser, data_template, prompt, correction, validation, isList=True)\n",
    "\n",
    "from Applications.GraphRAG.Config.relation_extractor import data_template, prompt, correction, validation\n",
    "\n",
    "# 05\n",
    "relation_extractor=MultiProcessor(llm,parser, data_template, prompt, correction, validation, isList=True)"
   ]
  },
  {
   "cell_type": "markdown",
   "metadata": {},
   "source": [
    "# 主工作流的第一部分，得到近义词合并后的实体和类型"
   ]
  },
  {
   "cell_type": "code",
   "execution_count": null,
   "metadata": {},
   "outputs": [],
   "source": [
    "input_chunk_list=divider.divide(txt_path='DataFolder/input.txt')\n",
    "\n",
    "input_chunk_tuple_list=formatter.string2tuple_list(input_chunk_list)\n",
    "\n",
    "type_tuple_list=entity_classifier.multitask_perform(input_chunk_tuple_list, num_threads=40)\n",
    "print('step1 done')\n",
    "entity_tuple_list=entity_extractor.multitask_perform(input_chunk_tuple_list, num_threads=40)\n",
    "print('step2 done')\n",
    "merged_type_tuple_list=formatter.convertor(embedder, type_tuple_list)\n",
    "\n",
    "merged_entity_tuple_list=formatter.convertor(embedder,entity_tuple_list)\n",
    "\n",
    "explanation_data=formatter.organize_data(input_chunk_tuple_list, merged_entity_tuple_list)\n",
    "\n",
    "entity_explanation=entity_explainer.multitask_perform(explanation_data, num_threads=40)\n",
    "print('step3 done')\n",
    "relation_explanation=relation_extractor.multitask_perform(explanation_data, num_threads=40)\n",
    "print('step4 done')\n",
    "converted_entity_explanation = formatter.convert_structure(entity_explanation)\n",
    "\n",
    "parser.write_json(relation_explanation, 'DataFolder/relation_explanation.json')\n",
    "parser.write_json(converted_entity_explanation, 'DataFolder/entity_explanation.json')"
   ]
  }
 ],
 "metadata": {
  "kernelspec": {
   "display_name": "Python 3",
   "language": "python",
   "name": "python3"
  },
  "language_info": {
   "codemirror_mode": {
    "name": "ipython",
    "version": 3
   },
   "file_extension": ".py",
   "mimetype": "text/x-python",
   "name": "python",
   "nbconvert_exporter": "python",
   "pygments_lexer": "ipython3",
   "version": "3.11.5"
  }
 },
 "nbformat": 4,
 "nbformat_minor": 2
}
